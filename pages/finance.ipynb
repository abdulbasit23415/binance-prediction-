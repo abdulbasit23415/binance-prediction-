{
 "cells": [
  {
   "cell_type": "code",
   "execution_count": 1,
   "metadata": {},
   "outputs": [],
   "source": [
    "import pandas as pd "
   ]
  },
  {
   "cell_type": "code",
   "execution_count": 3,
   "metadata": {},
   "outputs": [
    {
     "data": {
      "text/html": [
       "<div>\n",
       "<style scoped>\n",
       "    .dataframe tbody tr th:only-of-type {\n",
       "        vertical-align: middle;\n",
       "    }\n",
       "\n",
       "    .dataframe tbody tr th {\n",
       "        vertical-align: top;\n",
       "    }\n",
       "\n",
       "    .dataframe thead th {\n",
       "        text-align: right;\n",
       "    }\n",
       "</style>\n",
       "<table border=\"1\" class=\"dataframe\">\n",
       "  <thead>\n",
       "    <tr style=\"text-align: right;\">\n",
       "      <th></th>\n",
       "      <th>Date</th>\n",
       "      <th>Price</th>\n",
       "      <th>Open</th>\n",
       "      <th>High</th>\n",
       "      <th>Low</th>\n",
       "      <th>Vol</th>\n",
       "      <th>Change %</th>\n",
       "    </tr>\n",
       "  </thead>\n",
       "  <tbody>\n",
       "    <tr>\n",
       "      <th>0</th>\n",
       "      <td>May 06, 2023</td>\n",
       "      <td>1969.82</td>\n",
       "      <td>1993.33</td>\n",
       "      <td>2013.10</td>\n",
       "      <td>1964.43</td>\n",
       "      <td>641.57K</td>\n",
       "      <td>-1.18</td>\n",
       "    </tr>\n",
       "    <tr>\n",
       "      <th>1</th>\n",
       "      <td>May 05, 2023</td>\n",
       "      <td>1993.33</td>\n",
       "      <td>1877.06</td>\n",
       "      <td>1996.64</td>\n",
       "      <td>1875.66</td>\n",
       "      <td>589.05K</td>\n",
       "      <td>6.19</td>\n",
       "    </tr>\n",
       "    <tr>\n",
       "      <th>2</th>\n",
       "      <td>May 04, 2023</td>\n",
       "      <td>1877.06</td>\n",
       "      <td>1904.76</td>\n",
       "      <td>1915.15</td>\n",
       "      <td>1868.18</td>\n",
       "      <td>372.69K</td>\n",
       "      <td>-1.45</td>\n",
       "    </tr>\n",
       "    <tr>\n",
       "      <th>3</th>\n",
       "      <td>May 03, 2023</td>\n",
       "      <td>1904.74</td>\n",
       "      <td>1869.74</td>\n",
       "      <td>1915.00</td>\n",
       "      <td>1844.72</td>\n",
       "      <td>489.66K</td>\n",
       "      <td>1.87</td>\n",
       "    </tr>\n",
       "    <tr>\n",
       "      <th>4</th>\n",
       "      <td>May 02, 2023</td>\n",
       "      <td>1869.74</td>\n",
       "      <td>1830.75</td>\n",
       "      <td>1878.70</td>\n",
       "      <td>1823.25</td>\n",
       "      <td>391.27K</td>\n",
       "      <td>2.13</td>\n",
       "    </tr>\n",
       "    <tr>\n",
       "      <th>...</th>\n",
       "      <td>...</td>\n",
       "      <td>...</td>\n",
       "      <td>...</td>\n",
       "      <td>...</td>\n",
       "      <td>...</td>\n",
       "      <td>...</td>\n",
       "      <td>...</td>\n",
       "    </tr>\n",
       "    <tr>\n",
       "      <th>2609</th>\n",
       "      <td>Mar 14, 2016</td>\n",
       "      <td>12.50</td>\n",
       "      <td>15.07</td>\n",
       "      <td>15.07</td>\n",
       "      <td>11.40</td>\n",
       "      <td>92.18K</td>\n",
       "      <td>-17.05</td>\n",
       "    </tr>\n",
       "    <tr>\n",
       "      <th>2610</th>\n",
       "      <td>Mar 13, 2016</td>\n",
       "      <td>15.07</td>\n",
       "      <td>12.92</td>\n",
       "      <td>15.07</td>\n",
       "      <td>12.92</td>\n",
       "      <td>1.30K</td>\n",
       "      <td>16.64</td>\n",
       "    </tr>\n",
       "    <tr>\n",
       "      <th>2611</th>\n",
       "      <td>Mar 12, 2016</td>\n",
       "      <td>12.92</td>\n",
       "      <td>11.95</td>\n",
       "      <td>13.45</td>\n",
       "      <td>11.95</td>\n",
       "      <td>0.83K</td>\n",
       "      <td>8.12</td>\n",
       "    </tr>\n",
       "    <tr>\n",
       "      <th>2612</th>\n",
       "      <td>Mar 11, 2016</td>\n",
       "      <td>11.95</td>\n",
       "      <td>11.75</td>\n",
       "      <td>11.95</td>\n",
       "      <td>11.75</td>\n",
       "      <td>0.18K</td>\n",
       "      <td>1.70</td>\n",
       "    </tr>\n",
       "    <tr>\n",
       "      <th>2613</th>\n",
       "      <td>Mar 10, 2016</td>\n",
       "      <td>11.75</td>\n",
       "      <td>11.20</td>\n",
       "      <td>11.85</td>\n",
       "      <td>11.07</td>\n",
       "      <td>0.00K</td>\n",
       "      <td>4.91</td>\n",
       "    </tr>\n",
       "  </tbody>\n",
       "</table>\n",
       "<p>2614 rows × 7 columns</p>\n",
       "</div>"
      ],
      "text/plain": [
       "              Date    Price     Open     High      Low      Vol  Change %\n",
       "0     May 06, 2023  1969.82  1993.33  2013.10  1964.43  641.57K     -1.18\n",
       "1     May 05, 2023  1993.33  1877.06  1996.64  1875.66  589.05K      6.19\n",
       "2     May 04, 2023  1877.06  1904.76  1915.15  1868.18  372.69K     -1.45\n",
       "3     May 03, 2023  1904.74  1869.74  1915.00  1844.72  489.66K      1.87\n",
       "4     May 02, 2023  1869.74  1830.75  1878.70  1823.25  391.27K      2.13\n",
       "...            ...      ...      ...      ...      ...      ...       ...\n",
       "2609  Mar 14, 2016    12.50    15.07    15.07    11.40   92.18K    -17.05\n",
       "2610  Mar 13, 2016    15.07    12.92    15.07    12.92    1.30K     16.64\n",
       "2611  Mar 12, 2016    12.92    11.95    13.45    11.95    0.83K      8.12\n",
       "2612  Mar 11, 2016    11.95    11.75    11.95    11.75    0.18K      1.70\n",
       "2613  Mar 10, 2016    11.75    11.20    11.85    11.07    0.00K      4.91\n",
       "\n",
       "[2614 rows x 7 columns]"
      ]
     },
     "execution_count": 3,
     "metadata": {},
     "output_type": "execute_result"
    }
   ],
   "source": [
    "data_type={'Open':float,\n",
    "           'High':float,\n",
    "           'low':float,\n",
    "           'Change %':float\n",
    "}\n",
    "df= pd.read_csv(\"../dataset/Ethereum Historical Data.csv\",dtype=data_type,thousands=',')\n",
    "\n",
    "df"
   ]
  },
  {
   "cell_type": "code",
   "execution_count": 4,
   "metadata": {},
   "outputs": [],
   "source": [
    "X=df.drop(columns=['Date','Vol','Change %'],axis=1)\n",
    "Y = df['Change %']"
   ]
  },
  {
   "cell_type": "code",
   "execution_count": 5,
   "metadata": {},
   "outputs": [
    {
     "name": "stdout",
     "output_type": "stream",
     "text": [
      "[2013.1  1996.64 1915.15 ...   15.07   13.45   11.95]\n"
     ]
    }
   ],
   "source": [
    "unique_values = X['High'].unique()\n",
    "print(unique_values)\n"
   ]
  },
  {
   "cell_type": "code",
   "execution_count": 6,
   "metadata": {},
   "outputs": [
    {
     "ename": "ModuleNotFoundError",
     "evalue": "No module named 'sklearn'",
     "output_type": "error",
     "traceback": [
      "\u001b[1;31m---------------------------------------------------------------------------\u001b[0m",
      "\u001b[1;31mModuleNotFoundError\u001b[0m                       Traceback (most recent call last)",
      "Cell \u001b[1;32mIn[6], line 1\u001b[0m\n\u001b[1;32m----> 1\u001b[0m \u001b[38;5;28;01mfrom\u001b[39;00m \u001b[38;5;21;01msklearn\u001b[39;00m\u001b[38;5;21;01m.\u001b[39;00m\u001b[38;5;21;01mmodel_selection\u001b[39;00m \u001b[38;5;28;01mimport\u001b[39;00m train_test_split\n\u001b[0;32m      2\u001b[0m X_train,X_test,Y_train,Y_test\u001b[38;5;241m=\u001b[39mtrain_test_split(X,Y,test_size\u001b[38;5;241m=\u001b[39m\u001b[38;5;241m0.2\u001b[39m,random_state\u001b[38;5;241m=\u001b[39m\u001b[38;5;241m5\u001b[39m)\n",
      "\u001b[1;31mModuleNotFoundError\u001b[0m: No module named 'sklearn'"
     ]
    }
   ],
   "source": [
    "from sklearn.model_selection import train_test_split\n",
    "X_train,X_test,Y_train,Y_test=train_test_split(X,Y,test_size=0.2,random_state=5)\n"
   ]
  },
  {
   "cell_type": "code",
   "execution_count": null,
   "metadata": {},
   "outputs": [],
   "source": [
    "from sklearn.linear_model import LinearRegression\n",
    "from sklearn.metrics import mean_squared_error\n",
    "\n",
    "clf=LinearRegression()\n",
    "clf.fit(X_train,Y_train)\n",
    "Y_pred = clf.predict(X_test)\n",
    "accuracy = mean_squared_error(Y_test,Y_pred)\n",
    "print(\"Accuracy:\", accuracy)"
   ]
  }
 ],
 "metadata": {
  "kernelspec": {
   "display_name": ".venv",
   "language": "python",
   "name": "python3"
  },
  "language_info": {
   "codemirror_mode": {
    "name": "ipython",
    "version": 3
   },
   "file_extension": ".py",
   "mimetype": "text/x-python",
   "name": "python",
   "nbconvert_exporter": "python",
   "pygments_lexer": "ipython3",
   "version": "3.11.4"
  }
 },
 "nbformat": 4,
 "nbformat_minor": 2
}
